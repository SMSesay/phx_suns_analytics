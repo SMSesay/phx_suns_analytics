{
 "cells": [
  {
   "cell_type": "markdown",
   "id": "acddd953",
   "metadata": {},
   "source": [
    "<h1><center>Exploratory Data Analysis: Kevin Durant Shots</center></h1>"
   ]
  },
  {
   "cell_type": "markdown",
   "id": "8a811a94",
   "metadata": {},
   "source": [
    "This notebook will show how to perform an exploratory data analysis on a dataset. The dataset this notebook will be exploring will be the shots taken by Kevin Durant during the 2023/24 season, each row in the dataset will represent a shot taken by Kevin Durant and it includes a variety of variables such as shot distance, result of the shot and location of the shot."
   ]
  },
  {
   "cell_type": "markdown",
   "id": "7942ac0d",
   "metadata": {},
   "source": [
    "<h3>Import Libraries</h3>"
   ]
  },
  {
   "cell_type": "code",
   "execution_count": 34,
   "id": "31bb29d8",
   "metadata": {},
   "outputs": [],
   "source": [
    "import pandas as pd\n",
    "import seaborn as sns\n",
    "import numpy as np\n",
    "import matplotlib.pyplot as plt\n",
    "plt.style.use('dark_background')"
   ]
  },
  {
   "cell_type": "code",
   "execution_count": 8,
   "id": "c4a64fe1",
   "metadata": {},
   "outputs": [],
   "source": [
    "kd_shots_df = pd.read_csv('../data/kd_shots_24.csv', index_col=[0])"
   ]
  },
  {
   "cell_type": "markdown",
   "id": "2cfd7213",
   "metadata": {},
   "source": [
    "<h3>Data Understanding</h3>"
   ]
  },
  {
   "cell_type": "code",
   "execution_count": 9,
   "id": "7ec9b0dd",
   "metadata": {},
   "outputs": [
    {
     "data": {
      "text/html": [
       "<div>\n",
       "<style scoped>\n",
       "    .dataframe tbody tr th:only-of-type {\n",
       "        vertical-align: middle;\n",
       "    }\n",
       "\n",
       "    .dataframe tbody tr th {\n",
       "        vertical-align: top;\n",
       "    }\n",
       "\n",
       "    .dataframe thead th {\n",
       "        text-align: right;\n",
       "    }\n",
       "</style>\n",
       "<table border=\"1\" class=\"dataframe\">\n",
       "  <thead>\n",
       "    <tr style=\"text-align: right;\">\n",
       "      <th></th>\n",
       "      <th>SEASON_1</th>\n",
       "      <th>SEASON_2</th>\n",
       "      <th>TEAM_ID</th>\n",
       "      <th>TEAM_NAME</th>\n",
       "      <th>PLAYER_ID</th>\n",
       "      <th>PLAYER_NAME</th>\n",
       "      <th>POSITION_GROUP</th>\n",
       "      <th>POSITION</th>\n",
       "      <th>GAME_DATE</th>\n",
       "      <th>GAME_ID</th>\n",
       "      <th>...</th>\n",
       "      <th>BASIC_ZONE</th>\n",
       "      <th>ZONE_NAME</th>\n",
       "      <th>ZONE_ABB</th>\n",
       "      <th>ZONE_RANGE</th>\n",
       "      <th>LOC_X</th>\n",
       "      <th>LOC_Y</th>\n",
       "      <th>SHOT_DISTANCE</th>\n",
       "      <th>QUARTER</th>\n",
       "      <th>MINS_LEFT</th>\n",
       "      <th>SECS_LEFT</th>\n",
       "    </tr>\n",
       "  </thead>\n",
       "  <tbody>\n",
       "    <tr>\n",
       "      <th>44468</th>\n",
       "      <td>2024</td>\n",
       "      <td>2023-24</td>\n",
       "      <td>1610612756</td>\n",
       "      <td>Phoenix Suns</td>\n",
       "      <td>201142</td>\n",
       "      <td>Kevin Durant</td>\n",
       "      <td>F</td>\n",
       "      <td>PF</td>\n",
       "      <td>11-10-2023</td>\n",
       "      <td>22300015</td>\n",
       "      <td>...</td>\n",
       "      <td>In The Paint (Non-RA)</td>\n",
       "      <td>Center</td>\n",
       "      <td>C</td>\n",
       "      <td>8-16 ft.</td>\n",
       "      <td>-4.3</td>\n",
       "      <td>18.05</td>\n",
       "      <td>13</td>\n",
       "      <td>1</td>\n",
       "      <td>10</td>\n",
       "      <td>38</td>\n",
       "    </tr>\n",
       "    <tr>\n",
       "      <th>44474</th>\n",
       "      <td>2024</td>\n",
       "      <td>2023-24</td>\n",
       "      <td>1610612756</td>\n",
       "      <td>Phoenix Suns</td>\n",
       "      <td>201142</td>\n",
       "      <td>Kevin Durant</td>\n",
       "      <td>F</td>\n",
       "      <td>PF</td>\n",
       "      <td>11-10-2023</td>\n",
       "      <td>22300015</td>\n",
       "      <td>...</td>\n",
       "      <td>Mid-Range</td>\n",
       "      <td>Left Side</td>\n",
       "      <td>L</td>\n",
       "      <td>8-16 ft.</td>\n",
       "      <td>12.9</td>\n",
       "      <td>6.55</td>\n",
       "      <td>12</td>\n",
       "      <td>1</td>\n",
       "      <td>7</td>\n",
       "      <td>20</td>\n",
       "    </tr>\n",
       "    <tr>\n",
       "      <th>44476</th>\n",
       "      <td>2024</td>\n",
       "      <td>2023-24</td>\n",
       "      <td>1610612756</td>\n",
       "      <td>Phoenix Suns</td>\n",
       "      <td>201142</td>\n",
       "      <td>Kevin Durant</td>\n",
       "      <td>F</td>\n",
       "      <td>PF</td>\n",
       "      <td>11-10-2023</td>\n",
       "      <td>22300015</td>\n",
       "      <td>...</td>\n",
       "      <td>Restricted Area</td>\n",
       "      <td>Center</td>\n",
       "      <td>C</td>\n",
       "      <td>Less Than 8 ft.</td>\n",
       "      <td>-1.1</td>\n",
       "      <td>7.45</td>\n",
       "      <td>2</td>\n",
       "      <td>1</td>\n",
       "      <td>6</td>\n",
       "      <td>30</td>\n",
       "    </tr>\n",
       "    <tr>\n",
       "      <th>44478</th>\n",
       "      <td>2024</td>\n",
       "      <td>2023-24</td>\n",
       "      <td>1610612756</td>\n",
       "      <td>Phoenix Suns</td>\n",
       "      <td>201142</td>\n",
       "      <td>Kevin Durant</td>\n",
       "      <td>F</td>\n",
       "      <td>PF</td>\n",
       "      <td>11-10-2023</td>\n",
       "      <td>22300015</td>\n",
       "      <td>...</td>\n",
       "      <td>Mid-Range</td>\n",
       "      <td>Center</td>\n",
       "      <td>C</td>\n",
       "      <td>16-24 ft.</td>\n",
       "      <td>0.1</td>\n",
       "      <td>22.55</td>\n",
       "      <td>17</td>\n",
       "      <td>1</td>\n",
       "      <td>5</td>\n",
       "      <td>34</td>\n",
       "    </tr>\n",
       "    <tr>\n",
       "      <th>44483</th>\n",
       "      <td>2024</td>\n",
       "      <td>2023-24</td>\n",
       "      <td>1610612756</td>\n",
       "      <td>Phoenix Suns</td>\n",
       "      <td>201142</td>\n",
       "      <td>Kevin Durant</td>\n",
       "      <td>F</td>\n",
       "      <td>PF</td>\n",
       "      <td>11-10-2023</td>\n",
       "      <td>22300015</td>\n",
       "      <td>...</td>\n",
       "      <td>Above the Break 3</td>\n",
       "      <td>Left Side Center</td>\n",
       "      <td>LC</td>\n",
       "      <td>24+ ft.</td>\n",
       "      <td>19.5</td>\n",
       "      <td>23.25</td>\n",
       "      <td>26</td>\n",
       "      <td>1</td>\n",
       "      <td>3</td>\n",
       "      <td>22</td>\n",
       "    </tr>\n",
       "  </tbody>\n",
       "</table>\n",
       "<p>5 rows × 26 columns</p>\n",
       "</div>"
      ],
      "text/plain": [
       "       SEASON_1 SEASON_2     TEAM_ID     TEAM_NAME  PLAYER_ID   PLAYER_NAME  \\\n",
       "44468      2024  2023-24  1610612756  Phoenix Suns     201142  Kevin Durant   \n",
       "44474      2024  2023-24  1610612756  Phoenix Suns     201142  Kevin Durant   \n",
       "44476      2024  2023-24  1610612756  Phoenix Suns     201142  Kevin Durant   \n",
       "44478      2024  2023-24  1610612756  Phoenix Suns     201142  Kevin Durant   \n",
       "44483      2024  2023-24  1610612756  Phoenix Suns     201142  Kevin Durant   \n",
       "\n",
       "      POSITION_GROUP POSITION   GAME_DATE   GAME_ID  ...  \\\n",
       "44468              F       PF  11-10-2023  22300015  ...   \n",
       "44474              F       PF  11-10-2023  22300015  ...   \n",
       "44476              F       PF  11-10-2023  22300015  ...   \n",
       "44478              F       PF  11-10-2023  22300015  ...   \n",
       "44483              F       PF  11-10-2023  22300015  ...   \n",
       "\n",
       "                  BASIC_ZONE         ZONE_NAME ZONE_ABB       ZONE_RANGE  \\\n",
       "44468  In The Paint (Non-RA)            Center        C         8-16 ft.   \n",
       "44474              Mid-Range         Left Side        L         8-16 ft.   \n",
       "44476        Restricted Area            Center        C  Less Than 8 ft.   \n",
       "44478              Mid-Range            Center        C        16-24 ft.   \n",
       "44483      Above the Break 3  Left Side Center       LC          24+ ft.   \n",
       "\n",
       "      LOC_X  LOC_Y SHOT_DISTANCE QUARTER MINS_LEFT SECS_LEFT  \n",
       "44468  -4.3  18.05            13       1        10        38  \n",
       "44474  12.9   6.55            12       1         7        20  \n",
       "44476  -1.1   7.45             2       1         6        30  \n",
       "44478   0.1  22.55            17       1         5        34  \n",
       "44483  19.5  23.25            26       1         3        22  \n",
       "\n",
       "[5 rows x 26 columns]"
      ]
     },
     "execution_count": 9,
     "metadata": {},
     "output_type": "execute_result"
    }
   ],
   "source": [
    "#Show the first five rows in the DataFrame\n",
    "kd_shots_df.head()"
   ]
  },
  {
   "cell_type": "code",
   "execution_count": 10,
   "id": "f269e6a0",
   "metadata": {},
   "outputs": [
    {
     "data": {
      "text/plain": [
       "Index(['SEASON_1', 'SEASON_2', 'TEAM_ID', 'TEAM_NAME', 'PLAYER_ID',\n",
       "       'PLAYER_NAME', 'POSITION_GROUP', 'POSITION', 'GAME_DATE', 'GAME_ID',\n",
       "       'HOME_TEAM', 'AWAY_TEAM', 'EVENT_TYPE', 'SHOT_MADE', 'ACTION_TYPE',\n",
       "       'SHOT_TYPE', 'BASIC_ZONE', 'ZONE_NAME', 'ZONE_ABB', 'ZONE_RANGE',\n",
       "       'LOC_X', 'LOC_Y', 'SHOT_DISTANCE', 'QUARTER', 'MINS_LEFT', 'SECS_LEFT'],\n",
       "      dtype='object')"
      ]
     },
     "execution_count": 10,
     "metadata": {},
     "output_type": "execute_result"
    }
   ],
   "source": [
    "#Show the columns in the DataFrame\n",
    "kd_shots_df.columns"
   ]
  },
  {
   "cell_type": "code",
   "execution_count": 12,
   "id": "eb6da372",
   "metadata": {},
   "outputs": [
    {
     "data": {
      "text/plain": [
       "(1436, 26)"
      ]
     },
     "execution_count": 12,
     "metadata": {},
     "output_type": "execute_result"
    }
   ],
   "source": [
    "#Show the rows and columns in the DataFrame\n",
    "kd_shots_df.shape"
   ]
  },
  {
   "cell_type": "code",
   "execution_count": 13,
   "id": "c5a613c8",
   "metadata": {},
   "outputs": [
    {
     "data": {
      "text/plain": [
       "SEASON_1            int64\n",
       "SEASON_2           object\n",
       "TEAM_ID             int64\n",
       "TEAM_NAME          object\n",
       "PLAYER_ID           int64\n",
       "PLAYER_NAME        object\n",
       "POSITION_GROUP     object\n",
       "POSITION           object\n",
       "GAME_DATE          object\n",
       "GAME_ID             int64\n",
       "HOME_TEAM          object\n",
       "AWAY_TEAM          object\n",
       "EVENT_TYPE         object\n",
       "SHOT_MADE            bool\n",
       "ACTION_TYPE        object\n",
       "SHOT_TYPE          object\n",
       "BASIC_ZONE         object\n",
       "ZONE_NAME          object\n",
       "ZONE_ABB           object\n",
       "ZONE_RANGE         object\n",
       "LOC_X             float64\n",
       "LOC_Y             float64\n",
       "SHOT_DISTANCE       int64\n",
       "QUARTER             int64\n",
       "MINS_LEFT           int64\n",
       "SECS_LEFT           int64\n",
       "dtype: object"
      ]
     },
     "execution_count": 13,
     "metadata": {},
     "output_type": "execute_result"
    }
   ],
   "source": [
    "#Show the Data Types in the DataFrame\n",
    "kd_shots_df.dtypes"
   ]
  },
  {
   "cell_type": "code",
   "execution_count": 14,
   "id": "040e52b3",
   "metadata": {},
   "outputs": [
    {
     "data": {
      "text/html": [
       "<div>\n",
       "<style scoped>\n",
       "    .dataframe tbody tr th:only-of-type {\n",
       "        vertical-align: middle;\n",
       "    }\n",
       "\n",
       "    .dataframe tbody tr th {\n",
       "        vertical-align: top;\n",
       "    }\n",
       "\n",
       "    .dataframe thead th {\n",
       "        text-align: right;\n",
       "    }\n",
       "</style>\n",
       "<table border=\"1\" class=\"dataframe\">\n",
       "  <thead>\n",
       "    <tr style=\"text-align: right;\">\n",
       "      <th></th>\n",
       "      <th>SEASON_1</th>\n",
       "      <th>TEAM_ID</th>\n",
       "      <th>PLAYER_ID</th>\n",
       "      <th>GAME_ID</th>\n",
       "      <th>LOC_X</th>\n",
       "      <th>LOC_Y</th>\n",
       "      <th>SHOT_DISTANCE</th>\n",
       "      <th>QUARTER</th>\n",
       "      <th>MINS_LEFT</th>\n",
       "      <th>SECS_LEFT</th>\n",
       "    </tr>\n",
       "  </thead>\n",
       "  <tbody>\n",
       "    <tr>\n",
       "      <th>count</th>\n",
       "      <td>1436.0</td>\n",
       "      <td>1.436000e+03</td>\n",
       "      <td>1436.0</td>\n",
       "      <td>1.436000e+03</td>\n",
       "      <td>1436.000000</td>\n",
       "      <td>1436.000000</td>\n",
       "      <td>1436.000000</td>\n",
       "      <td>1436.000000</td>\n",
       "      <td>1436.000000</td>\n",
       "      <td>1436.000000</td>\n",
       "    </tr>\n",
       "    <tr>\n",
       "      <th>mean</th>\n",
       "      <td>2024.0</td>\n",
       "      <td>1.610613e+09</td>\n",
       "      <td>201142.0</td>\n",
       "      <td>2.230062e+07</td>\n",
       "      <td>-0.315111</td>\n",
       "      <td>16.015738</td>\n",
       "      <td>14.514624</td>\n",
       "      <td>2.520195</td>\n",
       "      <td>5.582173</td>\n",
       "      <td>28.331476</td>\n",
       "    </tr>\n",
       "    <tr>\n",
       "      <th>std</th>\n",
       "      <td>0.0</td>\n",
       "      <td>0.000000e+00</td>\n",
       "      <td>0.0</td>\n",
       "      <td>3.591186e+02</td>\n",
       "      <td>10.476392</td>\n",
       "      <td>8.370498</td>\n",
       "      <td>8.407757</td>\n",
       "      <td>1.141066</td>\n",
       "      <td>3.316657</td>\n",
       "      <td>17.212309</td>\n",
       "    </tr>\n",
       "    <tr>\n",
       "      <th>min</th>\n",
       "      <td>2024.0</td>\n",
       "      <td>1.610613e+09</td>\n",
       "      <td>201142.0</td>\n",
       "      <td>2.230002e+07</td>\n",
       "      <td>-24.400000</td>\n",
       "      <td>0.850000</td>\n",
       "      <td>0.000000</td>\n",
       "      <td>1.000000</td>\n",
       "      <td>0.000000</td>\n",
       "      <td>0.000000</td>\n",
       "    </tr>\n",
       "    <tr>\n",
       "      <th>25%</th>\n",
       "      <td>2024.0</td>\n",
       "      <td>1.610613e+09</td>\n",
       "      <td>201142.0</td>\n",
       "      <td>2.230029e+07</td>\n",
       "      <td>-8.000000</td>\n",
       "      <td>7.950000</td>\n",
       "      <td>8.750000</td>\n",
       "      <td>1.000000</td>\n",
       "      <td>3.000000</td>\n",
       "      <td>13.000000</td>\n",
       "    </tr>\n",
       "    <tr>\n",
       "      <th>50%</th>\n",
       "      <td>2024.0</td>\n",
       "      <td>1.610613e+09</td>\n",
       "      <td>201142.0</td>\n",
       "      <td>2.230064e+07</td>\n",
       "      <td>-0.100000</td>\n",
       "      <td>15.150000</td>\n",
       "      <td>14.000000</td>\n",
       "      <td>3.000000</td>\n",
       "      <td>6.000000</td>\n",
       "      <td>28.000000</td>\n",
       "    </tr>\n",
       "    <tr>\n",
       "      <th>75%</th>\n",
       "      <td>2024.0</td>\n",
       "      <td>1.610613e+09</td>\n",
       "      <td>201142.0</td>\n",
       "      <td>2.230092e+07</td>\n",
       "      <td>6.700000</td>\n",
       "      <td>22.150000</td>\n",
       "      <td>23.000000</td>\n",
       "      <td>3.000000</td>\n",
       "      <td>8.000000</td>\n",
       "      <td>43.000000</td>\n",
       "    </tr>\n",
       "    <tr>\n",
       "      <th>max</th>\n",
       "      <td>2024.0</td>\n",
       "      <td>1.610613e+09</td>\n",
       "      <td>201142.0</td>\n",
       "      <td>2.230120e+07</td>\n",
       "      <td>24.500000</td>\n",
       "      <td>34.250000</td>\n",
       "      <td>30.000000</td>\n",
       "      <td>6.000000</td>\n",
       "      <td>11.000000</td>\n",
       "      <td>59.000000</td>\n",
       "    </tr>\n",
       "  </tbody>\n",
       "</table>\n",
       "</div>"
      ],
      "text/plain": [
       "       SEASON_1       TEAM_ID  PLAYER_ID       GAME_ID        LOC_X  \\\n",
       "count    1436.0  1.436000e+03     1436.0  1.436000e+03  1436.000000   \n",
       "mean     2024.0  1.610613e+09   201142.0  2.230062e+07    -0.315111   \n",
       "std         0.0  0.000000e+00        0.0  3.591186e+02    10.476392   \n",
       "min      2024.0  1.610613e+09   201142.0  2.230002e+07   -24.400000   \n",
       "25%      2024.0  1.610613e+09   201142.0  2.230029e+07    -8.000000   \n",
       "50%      2024.0  1.610613e+09   201142.0  2.230064e+07    -0.100000   \n",
       "75%      2024.0  1.610613e+09   201142.0  2.230092e+07     6.700000   \n",
       "max      2024.0  1.610613e+09   201142.0  2.230120e+07    24.500000   \n",
       "\n",
       "             LOC_Y  SHOT_DISTANCE      QUARTER    MINS_LEFT    SECS_LEFT  \n",
       "count  1436.000000    1436.000000  1436.000000  1436.000000  1436.000000  \n",
       "mean     16.015738      14.514624     2.520195     5.582173    28.331476  \n",
       "std       8.370498       8.407757     1.141066     3.316657    17.212309  \n",
       "min       0.850000       0.000000     1.000000     0.000000     0.000000  \n",
       "25%       7.950000       8.750000     1.000000     3.000000    13.000000  \n",
       "50%      15.150000      14.000000     3.000000     6.000000    28.000000  \n",
       "75%      22.150000      23.000000     3.000000     8.000000    43.000000  \n",
       "max      34.250000      30.000000     6.000000    11.000000    59.000000  "
      ]
     },
     "execution_count": 14,
     "metadata": {},
     "output_type": "execute_result"
    }
   ],
   "source": [
    "kd_shots_df.describe()"
   ]
  },
  {
   "cell_type": "markdown",
   "id": "273aafc5",
   "metadata": {},
   "source": [
    "<h3>Data Preparation</h3>"
   ]
  },
  {
   "cell_type": "code",
   "execution_count": 18,
   "id": "89b7c9ff",
   "metadata": {},
   "outputs": [],
   "source": [
    "#The GAME_DATE column needs to be changed from an object to a Date\n",
    "kd_shots_df['GAME_DATE'] = pd.to_datetime(kd_shots_df['GAME_DATE'])"
   ]
  },
  {
   "cell_type": "code",
   "execution_count": 22,
   "id": "29a97d58",
   "metadata": {},
   "outputs": [
    {
     "data": {
      "text/plain": [
       "GAME_DATE    datetime64[ns]\n",
       "dtype: object"
      ]
     },
     "execution_count": 22,
     "metadata": {},
     "output_type": "execute_result"
    }
   ],
   "source": [
    "kd_shots_df[['GAME_DATE']].dtypes"
   ]
  },
  {
   "cell_type": "code",
   "execution_count": 11,
   "id": "279e8ace",
   "metadata": {},
   "outputs": [
    {
     "data": {
      "text/plain": [
       "SEASON_1          0\n",
       "SEASON_2          0\n",
       "TEAM_ID           0\n",
       "TEAM_NAME         0\n",
       "PLAYER_ID         0\n",
       "PLAYER_NAME       0\n",
       "POSITION_GROUP    0\n",
       "POSITION          0\n",
       "GAME_DATE         0\n",
       "GAME_ID           0\n",
       "HOME_TEAM         0\n",
       "AWAY_TEAM         0\n",
       "EVENT_TYPE        0\n",
       "SHOT_MADE         0\n",
       "ACTION_TYPE       0\n",
       "SHOT_TYPE         0\n",
       "BASIC_ZONE        0\n",
       "ZONE_NAME         0\n",
       "ZONE_ABB          0\n",
       "ZONE_RANGE        0\n",
       "LOC_X             0\n",
       "LOC_Y             0\n",
       "SHOT_DISTANCE     0\n",
       "QUARTER           0\n",
       "MINS_LEFT         0\n",
       "SECS_LEFT         0\n",
       "dtype: int64"
      ]
     },
     "execution_count": 11,
     "metadata": {},
     "output_type": "execute_result"
    }
   ],
   "source": [
    "#Show null values if any in the columns\n",
    "kd_shots_df.isnull().sum()"
   ]
  },
  {
   "cell_type": "code",
   "execution_count": 16,
   "id": "40ae2ecb",
   "metadata": {},
   "outputs": [
    {
     "data": {
      "text/plain": [
       "SEASON_1          0\n",
       "SEASON_2          0\n",
       "TEAM_ID           0\n",
       "TEAM_NAME         0\n",
       "PLAYER_ID         0\n",
       "PLAYER_NAME       0\n",
       "POSITION_GROUP    0\n",
       "POSITION          0\n",
       "GAME_DATE         0\n",
       "GAME_ID           0\n",
       "HOME_TEAM         0\n",
       "AWAY_TEAM         0\n",
       "EVENT_TYPE        0\n",
       "SHOT_MADE         0\n",
       "ACTION_TYPE       0\n",
       "SHOT_TYPE         0\n",
       "BASIC_ZONE        0\n",
       "ZONE_NAME         0\n",
       "ZONE_ABB          0\n",
       "ZONE_RANGE        0\n",
       "LOC_X             0\n",
       "LOC_Y             0\n",
       "SHOT_DISTANCE     0\n",
       "QUARTER           0\n",
       "MINS_LEFT         0\n",
       "SECS_LEFT         0\n",
       "dtype: int64"
      ]
     },
     "execution_count": 16,
     "metadata": {},
     "output_type": "execute_result"
    }
   ],
   "source": [
    "#Another way to show the NA values in the columns in your DataFrame\n",
    "kd_shots_df.isna().sum()"
   ]
  },
  {
   "cell_type": "code",
   "execution_count": 24,
   "id": "21020a03",
   "metadata": {},
   "outputs": [
    {
     "data": {
      "text/html": [
       "<div>\n",
       "<style scoped>\n",
       "    .dataframe tbody tr th:only-of-type {\n",
       "        vertical-align: middle;\n",
       "    }\n",
       "\n",
       "    .dataframe tbody tr th {\n",
       "        vertical-align: top;\n",
       "    }\n",
       "\n",
       "    .dataframe thead th {\n",
       "        text-align: right;\n",
       "    }\n",
       "</style>\n",
       "<table border=\"1\" class=\"dataframe\">\n",
       "  <thead>\n",
       "    <tr style=\"text-align: right;\">\n",
       "      <th></th>\n",
       "      <th>SEASON_1</th>\n",
       "      <th>SEASON_2</th>\n",
       "      <th>TEAM_ID</th>\n",
       "      <th>TEAM_NAME</th>\n",
       "      <th>PLAYER_ID</th>\n",
       "      <th>PLAYER_NAME</th>\n",
       "      <th>POSITION_GROUP</th>\n",
       "      <th>POSITION</th>\n",
       "      <th>GAME_DATE</th>\n",
       "      <th>GAME_ID</th>\n",
       "      <th>...</th>\n",
       "      <th>BASIC_ZONE</th>\n",
       "      <th>ZONE_NAME</th>\n",
       "      <th>ZONE_ABB</th>\n",
       "      <th>ZONE_RANGE</th>\n",
       "      <th>LOC_X</th>\n",
       "      <th>LOC_Y</th>\n",
       "      <th>SHOT_DISTANCE</th>\n",
       "      <th>QUARTER</th>\n",
       "      <th>MINS_LEFT</th>\n",
       "      <th>SECS_LEFT</th>\n",
       "    </tr>\n",
       "  </thead>\n",
       "  <tbody>\n",
       "  </tbody>\n",
       "</table>\n",
       "<p>0 rows × 26 columns</p>\n",
       "</div>"
      ],
      "text/plain": [
       "Empty DataFrame\n",
       "Columns: [SEASON_1, SEASON_2, TEAM_ID, TEAM_NAME, PLAYER_ID, PLAYER_NAME, POSITION_GROUP, POSITION, GAME_DATE, GAME_ID, HOME_TEAM, AWAY_TEAM, EVENT_TYPE, SHOT_MADE, ACTION_TYPE, SHOT_TYPE, BASIC_ZONE, ZONE_NAME, ZONE_ABB, ZONE_RANGE, LOC_X, LOC_Y, SHOT_DISTANCE, QUARTER, MINS_LEFT, SECS_LEFT]\n",
       "Index: []\n",
       "\n",
       "[0 rows x 26 columns]"
      ]
     },
     "execution_count": 24,
     "metadata": {},
     "output_type": "execute_result"
    }
   ],
   "source": [
    "#Show the duplicated values in the DataFrame\n",
    "kd_shots_df.loc[kd_shots_df.duplicated()]"
   ]
  },
  {
   "cell_type": "markdown",
   "id": "fa52c2c0",
   "metadata": {},
   "source": [
    "<h3>Feature Understanding</h3>"
   ]
  },
  {
   "cell_type": "code",
   "execution_count": 28,
   "id": "42562abb",
   "metadata": {},
   "outputs": [
    {
     "data": {
      "text/plain": [
       "GAME_ID\n",
       "22300893    34\n",
       "22300612    32\n",
       "22300260    30\n",
       "22300076    28\n",
       "22300363    28\n",
       "            ..\n",
       "22300094    11\n",
       "22300436    11\n",
       "22300976    10\n",
       "22300625    10\n",
       "22300705     9\n",
       "Name: count, Length: 75, dtype: int64"
      ]
     },
     "execution_count": 28,
     "metadata": {},
     "output_type": "execute_result"
    }
   ],
   "source": [
    "#The GAME_ID is a unique identifier for each game using the value_counts() function \n",
    "#on GAME_ID allows us to view the amount of shots in each game \n",
    "kd_shots_df['GAME_ID'].value_counts()"
   ]
  },
  {
   "cell_type": "code",
   "execution_count": 38,
   "id": "312fac78",
   "metadata": {},
   "outputs": [
    {
     "data": {
      "text/plain": [
       "Text(0, 0.5, 'Number of Shots')"
      ]
     },
     "execution_count": 38,
     "metadata": {},
     "output_type": "execute_result"
    },
    {
     "data": {
      "image/png": "[encoded data removed]",
      "text/plain": [
       "<Figure size 640x480 with 1 Axes>"
      ]
     },
     "metadata": {},
     "output_type": "display_data"
    }
   ],
   "source": [
    "ax = kd_shots_df['GAME_ID'].value_counts()\\\n",
    "    .head(10)\\\n",
    "    .plot(kind='bar', title='Top 10 number of shots taken per Game')\n",
    "ax.set_xlabel('Game ID')\n",
    "ax.set_ylabel('Number of Shots')"
   ]
  },
  {
   "cell_type": "code",
   "execution_count": 39,
   "id": "3edca0b5",
   "metadata": {},
   "outputs": [
    {
     "data": {
      "text/plain": [
       "BASIC_ZONE\n",
       "Mid-Range                485\n",
       "Above the Break 3        339\n",
       "In The Paint (Non-RA)    327\n",
       "Restricted Area          217\n",
       "Left Corner 3             34\n",
       "Right Corner 3            34\n",
       "Name: count, dtype: int64"
      ]
     },
     "execution_count": 39,
     "metadata": {},
     "output_type": "execute_result"
    }
   ],
   "source": [
    "kd_shots_df['BASIC_ZONE'].value_counts()"
   ]
  },
  {
   "cell_type": "code",
   "execution_count": 43,
   "id": "6a757ab2",
   "metadata": {},
   "outputs": [
    {
     "data": {
      "text/plain": [
       "Text(0, 0.5, 'Number of Shots')"
      ]
     },
     "execution_count": 43,
     "metadata": {},
     "output_type": "execute_result"
    },
    {
     "data": {
      "image/png": "[encoded data removed]",
      "text/plain": [
       "<Figure size 640x480 with 1 Axes>"
      ]
     },
     "metadata": {},
     "output_type": "display_data"
    }
   ],
   "source": [
    "ax = kd_shots_df['BASIC_ZONE'].value_counts()\\\n",
    "    .plot(kind='bar', title='Top number of shots taken per Basic Zone', color='cornflowerblue')\n",
    "ax.set_xlabel('Basic Zone')\n",
    "ax.set_ylabel('Number of Shots')"
   ]
  },
  {
   "cell_type": "code",
   "execution_count": 55,
   "id": "fb2b36d1",
   "metadata": {},
   "outputs": [
    {
     "data": {
      "text/plain": [
       "<Axes: title={'center': 'Player Shot distance Distribution'}, ylabel='Frequency'>"
      ]
     },
     "execution_count": 55,
     "metadata": {},
     "output_type": "execute_result"
    },
    {
     "data": {
      "image/png": "[encoded data removed]",
      "text/plain": [
       "<Figure size 640x480 with 1 Axes>"
      ]
     },
     "metadata": {},
     "output_type": "display_data"
    }
   ],
   "source": [
    "kd_shots_df['SHOT_DISTANCE'].plot(kind='hist', bins=20, \n",
    "                                  title='Player Shot distance Distribution', color='lightcoral')"
   ]
  },
  {
   "cell_type": "code",
   "execution_count": null,
   "id": "ab6a4349",
   "metadata": {},
   "outputs": [],
   "source": []
  },
  {
   "cell_type": "code",
   "execution_count": 54,
   "id": "4b913e6e",
   "metadata": {},
   "outputs": [
    {
     "data": {
      "text/plain": [
       "Text(0, 0.5, 'Number of Shots')"
      ]
     },
     "execution_count": 54,
     "metadata": {},
     "output_type": "execute_result"
    },
    {
     "data": {
      "image/png": "[encoded data removed]",
      "text/plain": [
       "<Figure size 640x480 with 1 Axes>"
      ]
     },
     "metadata": {},
     "output_type": "display_data"
    }
   ],
   "source": [
    "ax = kd_shots_df['QUARTER'].plot(kind='hist', title='Number of Shots by Quarter', color='darkseagreen')\n",
    "ax.set_xlabel('Quarter')\n",
    "ax.set_ylabel('Number of Shots')"
   ]
  }
 ],
 "metadata": {
  "kernelspec": {
   "display_name": "Python 3 (ipykernel)",
   "language": "python",
   "name": "python3"
  },
  "language_info": {
   "codemirror_mode": {
    "name": "ipython",
    "version": 3
   },
   "file_extension": ".py",
   "mimetype": "text/x-python",
   "name": "python",
   "nbconvert_exporter": "python",
   "pygments_lexer": "ipython3",
   "version": "3.8.2"
  }
 },
 "nbformat": 4,
 "nbformat_minor": 5
}
